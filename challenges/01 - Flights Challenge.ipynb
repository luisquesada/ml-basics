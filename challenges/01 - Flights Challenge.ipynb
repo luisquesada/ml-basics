{
 "cells": [
  {
   "cell_type": "markdown",
   "metadata": {},
   "source": [
    "# Flights Data Exploration Challenge\n",
    "\n",
    "In this challenge, you'll explore a real-world dataset containing flights data from the US Department of Transportation.\n",
    "\n",
    "Let's start by loading and viewing the data."
   ]
  },
  {
   "cell_type": "code",
   "execution_count": 1,
   "metadata": {},
   "outputs": [
    {
     "data": {
      "text/html": [
       "<div>\n",
       "<style scoped>\n",
       "    .dataframe tbody tr th:only-of-type {\n",
       "        vertical-align: middle;\n",
       "    }\n",
       "\n",
       "    .dataframe tbody tr th {\n",
       "        vertical-align: top;\n",
       "    }\n",
       "\n",
       "    .dataframe thead th {\n",
       "        text-align: right;\n",
       "    }\n",
       "</style>\n",
       "<table border=\"1\" class=\"dataframe\">\n",
       "  <thead>\n",
       "    <tr style=\"text-align: right;\">\n",
       "      <th></th>\n",
       "      <th>Year</th>\n",
       "      <th>Month</th>\n",
       "      <th>DayofMonth</th>\n",
       "      <th>DayOfWeek</th>\n",
       "      <th>Carrier</th>\n",
       "      <th>OriginAirportID</th>\n",
       "      <th>OriginAirportName</th>\n",
       "      <th>OriginCity</th>\n",
       "      <th>OriginState</th>\n",
       "      <th>DestAirportID</th>\n",
       "      <th>DestAirportName</th>\n",
       "      <th>DestCity</th>\n",
       "      <th>DestState</th>\n",
       "      <th>CRSDepTime</th>\n",
       "      <th>DepDelay</th>\n",
       "      <th>DepDel15</th>\n",
       "      <th>CRSArrTime</th>\n",
       "      <th>ArrDelay</th>\n",
       "      <th>ArrDel15</th>\n",
       "      <th>Cancelled</th>\n",
       "    </tr>\n",
       "  </thead>\n",
       "  <tbody>\n",
       "    <tr>\n",
       "      <th>0</th>\n",
       "      <td>2013</td>\n",
       "      <td>9</td>\n",
       "      <td>16</td>\n",
       "      <td>1</td>\n",
       "      <td>DL</td>\n",
       "      <td>15304</td>\n",
       "      <td>Tampa International</td>\n",
       "      <td>Tampa</td>\n",
       "      <td>FL</td>\n",
       "      <td>12478</td>\n",
       "      <td>John F. Kennedy International</td>\n",
       "      <td>New York</td>\n",
       "      <td>NY</td>\n",
       "      <td>1539</td>\n",
       "      <td>4</td>\n",
       "      <td>0.0</td>\n",
       "      <td>1824</td>\n",
       "      <td>13</td>\n",
       "      <td>0</td>\n",
       "      <td>0</td>\n",
       "    </tr>\n",
       "    <tr>\n",
       "      <th>1</th>\n",
       "      <td>2013</td>\n",
       "      <td>9</td>\n",
       "      <td>23</td>\n",
       "      <td>1</td>\n",
       "      <td>WN</td>\n",
       "      <td>14122</td>\n",
       "      <td>Pittsburgh International</td>\n",
       "      <td>Pittsburgh</td>\n",
       "      <td>PA</td>\n",
       "      <td>13232</td>\n",
       "      <td>Chicago Midway International</td>\n",
       "      <td>Chicago</td>\n",
       "      <td>IL</td>\n",
       "      <td>710</td>\n",
       "      <td>3</td>\n",
       "      <td>0.0</td>\n",
       "      <td>740</td>\n",
       "      <td>22</td>\n",
       "      <td>1</td>\n",
       "      <td>0</td>\n",
       "    </tr>\n",
       "    <tr>\n",
       "      <th>2</th>\n",
       "      <td>2013</td>\n",
       "      <td>9</td>\n",
       "      <td>7</td>\n",
       "      <td>6</td>\n",
       "      <td>AS</td>\n",
       "      <td>14747</td>\n",
       "      <td>Seattle/Tacoma International</td>\n",
       "      <td>Seattle</td>\n",
       "      <td>WA</td>\n",
       "      <td>11278</td>\n",
       "      <td>Ronald Reagan Washington National</td>\n",
       "      <td>Washington</td>\n",
       "      <td>DC</td>\n",
       "      <td>810</td>\n",
       "      <td>-3</td>\n",
       "      <td>0.0</td>\n",
       "      <td>1614</td>\n",
       "      <td>-7</td>\n",
       "      <td>0</td>\n",
       "      <td>0</td>\n",
       "    </tr>\n",
       "    <tr>\n",
       "      <th>3</th>\n",
       "      <td>2013</td>\n",
       "      <td>7</td>\n",
       "      <td>22</td>\n",
       "      <td>1</td>\n",
       "      <td>OO</td>\n",
       "      <td>13930</td>\n",
       "      <td>Chicago O'Hare International</td>\n",
       "      <td>Chicago</td>\n",
       "      <td>IL</td>\n",
       "      <td>11042</td>\n",
       "      <td>Cleveland-Hopkins International</td>\n",
       "      <td>Cleveland</td>\n",
       "      <td>OH</td>\n",
       "      <td>804</td>\n",
       "      <td>35</td>\n",
       "      <td>1.0</td>\n",
       "      <td>1027</td>\n",
       "      <td>33</td>\n",
       "      <td>1</td>\n",
       "      <td>0</td>\n",
       "    </tr>\n",
       "    <tr>\n",
       "      <th>4</th>\n",
       "      <td>2013</td>\n",
       "      <td>5</td>\n",
       "      <td>16</td>\n",
       "      <td>4</td>\n",
       "      <td>DL</td>\n",
       "      <td>13931</td>\n",
       "      <td>Norfolk International</td>\n",
       "      <td>Norfolk</td>\n",
       "      <td>VA</td>\n",
       "      <td>10397</td>\n",
       "      <td>Hartsfield-Jackson Atlanta International</td>\n",
       "      <td>Atlanta</td>\n",
       "      <td>GA</td>\n",
       "      <td>545</td>\n",
       "      <td>-1</td>\n",
       "      <td>0.0</td>\n",
       "      <td>728</td>\n",
       "      <td>-9</td>\n",
       "      <td>0</td>\n",
       "      <td>0</td>\n",
       "    </tr>\n",
       "  </tbody>\n",
       "</table>\n",
       "</div>"
      ],
      "text/plain": [
       "   Year  Month  DayofMonth  DayOfWeek Carrier  OriginAirportID  \\\n",
       "0  2013      9          16          1      DL            15304   \n",
       "1  2013      9          23          1      WN            14122   \n",
       "2  2013      9           7          6      AS            14747   \n",
       "3  2013      7          22          1      OO            13930   \n",
       "4  2013      5          16          4      DL            13931   \n",
       "\n",
       "              OriginAirportName  OriginCity OriginState  DestAirportID  \\\n",
       "0           Tampa International       Tampa          FL          12478   \n",
       "1      Pittsburgh International  Pittsburgh          PA          13232   \n",
       "2  Seattle/Tacoma International     Seattle          WA          11278   \n",
       "3  Chicago O'Hare International     Chicago          IL          11042   \n",
       "4         Norfolk International     Norfolk          VA          10397   \n",
       "\n",
       "                            DestAirportName    DestCity DestState  CRSDepTime  \\\n",
       "0             John F. Kennedy International    New York        NY        1539   \n",
       "1              Chicago Midway International     Chicago        IL         710   \n",
       "2         Ronald Reagan Washington National  Washington        DC         810   \n",
       "3           Cleveland-Hopkins International   Cleveland        OH         804   \n",
       "4  Hartsfield-Jackson Atlanta International     Atlanta        GA         545   \n",
       "\n",
       "   DepDelay  DepDel15  CRSArrTime  ArrDelay  ArrDel15  Cancelled  \n",
       "0         4       0.0        1824        13         0          0  \n",
       "1         3       0.0         740        22         1          0  \n",
       "2        -3       0.0        1614        -7         0          0  \n",
       "3        35       1.0        1027        33         1          0  \n",
       "4        -1       0.0         728        -9         0          0  "
      ]
     },
     "execution_count": 1,
     "metadata": {},
     "output_type": "execute_result"
    }
   ],
   "source": [
    "import pandas as pd\n",
    "\n",
    "# Generate a dictionary of datatypes\n",
    "dtype_dict = {\n",
    "    'Year': 'int64',\n",
    "    'Month': 'int64',\n",
    "    'DayofMonth': 'int64',\n",
    "    'DayOfWeek': 'int64',\n",
    "    'Carrier': 'str',\n",
    "    'OriginAirportID': 'int64',\n",
    "    'OriginAirportName':  'str',\n",
    "    'OriginCity': 'str',\n",
    "    'OriginState': 'str',\n",
    "    'DestAirportID': 'int64',\n",
    "    'DestAirportName': 'str',\n",
    "    'DestCity': 'str',\n",
    "    'DestState': 'str',\n",
    "    'CRSDepTime': 'int64',\n",
    "    'DepDelay': 'int64',\n",
    "    'DepDel15': 'float64',\n",
    "    'CRSArrTime': 'int64',\n",
    "    'ArrDelay': 'int64',\n",
    "    'ArrDel15': 'int64'\n",
    "}\n",
    "\n",
    "df_flights = pd.read_csv('data/flights.csv', dtype=dtype_dict)\n",
    "df_flights.head()"
   ]
  },
  {
   "cell_type": "markdown",
   "metadata": {},
   "source": [
    "The dataset contains observations of US domestic flights in 2013, and consists of the following fields:\n",
    "\n",
    "- **Year**: The year of the flight (all records are from 2013)\n",
    "- **Month**: The month of the flight\n",
    "- **DayofMonth**: The day of the month on which the flight departed\n",
    "- **DayOfWeek**: The day of the week on which the flight departed - from 1 (Monday) to 7 (Sunday)\n",
    "- **Carrier**: The two-letter abbreviation for the airline.\n",
    "- **OriginAirportID**: A unique numeric identifier for the departure aiport\n",
    "- **OriginAirportName**: The full name of the departure airport\n",
    "- **OriginCity**: The departure airport city\n",
    "- **OriginState**: The departure airport state\n",
    "- **DestAirportID**: A unique numeric identifier for the destination aiport\n",
    "- **DestAirportName**: The full name of the destination airport\n",
    "- **DestCity**: The destination airport city\n",
    "- **DestState**: The destination airport state\n",
    "- **CRSDepTime**: The scheduled departure time\n",
    "- **DepDelay**: The number of minutes departure was delayed (flight that left ahead of schedule have a negative value)\n",
    "- **DelDelay15**: A binary indicator that departure was delayed by more than 15 minutes (and therefore considered \"late\")\n",
    "- **CRSArrTime**: The scheduled arrival time\n",
    "- **ArrDelay**: The number of minutes arrival was delayed (flight that arrived ahead of schedule have a negative value)\n",
    "- **ArrDelay15**: A binary indicator that arrival was delayed by more than 15 minutes (and therefore considered \"late\")\n",
    "- **Cancelled**: A binary indicator that the flight was cancelled\n",
    "\n",
    "Your challenge is to explore the flight data to analyze possible factors that affect delays in departure or arrival of a flight.\n",
    "\n",
    "1. Start by cleaning the data.\n",
    "    - Identify any null or missing data, and impute appropriate replacement values.\n",
    "    - Identify and eliminate any outliers in the **DepDelay** and **ArrDelay** columns.\n",
    "2. Explore the cleaned data.\n",
    "    - View summary statistics for the numeric fields in the dataset.\n",
    "    - Determine the distribution of the **DepDelay** and **ArrDelay** columns.\n",
    "    - Use statistics, aggregate functions, and visualizations to answer the following questions:\n",
    "        - *What are the average (mean) departure and arrival delays?*\n",
    "        - *How do the carriers compare in terms of arrival delay performance?*\n",
    "        - *Is there a noticable difference in arrival delays for different days of the week?*\n",
    "        - *Which departure airport has the highest average departure delay?*\n",
    "        - *Do **late** departures tend to result in longer arrival delays than on-time departures?*\n",
    "        - *Which route (from origin airport to destination airport) has the most **late** arrivals?*\n",
    "        - *Which route has the highest average arrival delay?*\n",
    "        \n",
    "Add markdown and code cells as required to create your solution.\n",
    "\n",
    "> **Note**: There is no single \"correct\" solution. A sample solution is provided in [01 - Flights Challenge.ipynb](01%20-%20Flights%20Solution.ipynb)."
   ]
  },
  {
   "cell_type": "markdown",
   "metadata": {},
   "source": [
    "## Helper Functions"
   ]
  },
  {
   "cell_type": "code",
   "execution_count": 2,
   "metadata": {},
   "outputs": [],
   "source": [
    "import matplotlib.pyplot as plt\n",
    "import seaborn as sns\n",
    "\n",
    "# Create a function that we can re-use to check the distribution of data in a column\n",
    "def show_distribution(var_data):\n",
    "    '''\n",
    "    This function will make a distribution (graph) and display it\n",
    "    '''\n",
    "\n",
    "    # Get statistics\n",
    "    min_val = var_data.min()\n",
    "    max_val = var_data.max()\n",
    "    mean_val = var_data.mean()\n",
    "    med_val = var_data.median()\n",
    "    mod_val = var_data.mode()[0]\n",
    "\n",
    "    print('Minimum:{:.2f}\\nMean:{:.2f}\\nMedian:{:.2f}\\nMode:{:.2f}\\nMaximum:{:.2f}\\n'.format(min_val,\n",
    "                                                                                            mean_val,\n",
    "                                                                                            med_val,\n",
    "                                                                                            mod_val,\n",
    "                                                                                            max_val))\n",
    "\n",
    "    # Create a figure for 2 subplots (2 rows, 1 column)\n",
    "    fig, ax = plt.subplots(2, 1, figsize = (10,4))\n",
    "\n",
    "    # Plot the histogram   \n",
    "    ax[0].hist(var_data)\n",
    "    ax[0].set_ylabel('Frequency')\n",
    "\n",
    "    # Add lines for the mean, median, and mode\n",
    "    ax[0].axvline(x=min_val, color = 'gray', linestyle='dashed', linewidth = 2)\n",
    "    ax[0].axvline(x=mean_val, color = 'cyan', linestyle='dashed', linewidth = 2)\n",
    "    ax[0].axvline(x=med_val, color = 'red', linestyle='dashed', linewidth = 2)\n",
    "    ax[0].axvline(x=mod_val, color = 'yellow', linestyle='dashed', linewidth = 2)\n",
    "    ax[0].axvline(x=max_val, color = 'gray', linestyle='dashed', linewidth = 2)\n",
    "\n",
    "    # Plot the boxplot   \n",
    "    ax[1].boxplot(var_data, vert=False)\n",
    "    ax[1].set_xlabel('Value')\n",
    "\n",
    "    # Add a title to the Figure\n",
    "    fig.suptitle('Data Distribution')\n",
    "\n",
    "    # Show the figure\n",
    "    fig.show()\n",
    "\n",
    "# Create a function that we can re-use to check the density of data in a column using seaborn\n",
    "def show_density_sns(var_data):\n",
    "    '''\n",
    "    This function will make a density plot and display it\n",
    "    '''\n",
    "\n",
    "    # Create a figure for 1 subplot\n",
    "    fig, ax = plt.subplots(1, 1, figsize = (10,4))\n",
    "\n",
    "    # Plot the density plot\n",
    "    sns.kdeplot(var_data, ax=ax, fill=True)\n",
    "\n",
    "    # Add a title to the Figure\n",
    "    fig.suptitle('Data Density')\n",
    "\n",
    "    # Show the figure\n",
    "    fig.show()\n",
    "\n",
    "# Create a function that we can re-use to check the density of data in a column using matplotlib\n",
    "def show_density(var_data):\n",
    "    fig = plt.figure(figsize=(10,4))\n",
    "\n",
    "    # Plot density\n",
    "    var_data.plot.density()\n",
    "\n",
    "    # Add titles and labels\n",
    "    plt.title('Data Density')\n",
    "\n",
    "    # Show the mean, median, and mode\n",
    "    plt.axvline(x=var_data.mean(), color = 'cyan', linestyle='dashed', linewidth = 2)\n",
    "    plt.axvline(x=var_data.median(), color = 'red', linestyle='dashed', linewidth = 2)\n",
    "    plt.axvline(x=var_data.mode()[0], color = 'yellow', linestyle='dashed', linewidth = 2)\n",
    "\n",
    "    # Show the figure\n",
    "    plt.show()\n",
    "\n"
   ]
  },
  {
   "cell_type": "markdown",
   "metadata": {},
   "source": [
    "Identify any null or missing data, and impute appropriate replacement values."
   ]
  },
  {
   "cell_type": "code",
   "execution_count": 3,
   "metadata": {},
   "outputs": [
    {
     "name": "stdout",
     "output_type": "stream",
     "text": [
      "<class 'pandas.core.frame.DataFrame'>\n",
      "RangeIndex: 271940 entries, 0 to 271939\n",
      "Data columns (total 20 columns):\n",
      " #   Column             Non-Null Count   Dtype  \n",
      "---  ------             --------------   -----  \n",
      " 0   Year               271940 non-null  int64  \n",
      " 1   Month              271940 non-null  int64  \n",
      " 2   DayofMonth         271940 non-null  int64  \n",
      " 3   DayOfWeek          271940 non-null  int64  \n",
      " 4   Carrier            271940 non-null  object \n",
      " 5   OriginAirportID    271940 non-null  int64  \n",
      " 6   OriginAirportName  271940 non-null  object \n",
      " 7   OriginCity         271940 non-null  object \n",
      " 8   OriginState        271940 non-null  object \n",
      " 9   DestAirportID      271940 non-null  int64  \n",
      " 10  DestAirportName    271940 non-null  object \n",
      " 11  DestCity           271940 non-null  object \n",
      " 12  DestState          271940 non-null  object \n",
      " 13  CRSDepTime         271940 non-null  int64  \n",
      " 14  DepDelay           271940 non-null  int64  \n",
      " 15  DepDel15           269179 non-null  float64\n",
      " 16  CRSArrTime         271940 non-null  int64  \n",
      " 17  ArrDelay           271940 non-null  int64  \n",
      " 18  ArrDel15           271940 non-null  int64  \n",
      " 19  Cancelled          271940 non-null  int64  \n",
      "dtypes: float64(1), int64(12), object(7)\n",
      "memory usage: 41.5+ MB\n"
     ]
    }
   ],
   "source": [
    "# Your code to explore the data\n",
    "df_flights.info()"
   ]
  },
  {
   "cell_type": "code",
   "execution_count": 4,
   "metadata": {},
   "outputs": [
    {
     "data": {
      "text/plain": [
       "Year                    0\n",
       "Month                   0\n",
       "DayofMonth              0\n",
       "DayOfWeek               0\n",
       "Carrier                 0\n",
       "OriginAirportID         0\n",
       "OriginAirportName       0\n",
       "OriginCity              0\n",
       "OriginState             0\n",
       "DestAirportID           0\n",
       "DestAirportName         0\n",
       "DestCity                0\n",
       "DestState               0\n",
       "CRSDepTime              0\n",
       "DepDelay                0\n",
       "DepDel15             2761\n",
       "CRSArrTime              0\n",
       "ArrDelay                0\n",
       "ArrDel15                0\n",
       "Cancelled               0\n",
       "dtype: int64"
      ]
     },
     "execution_count": 4,
     "metadata": {},
     "output_type": "execute_result"
    }
   ],
   "source": [
    "df_flights.isnull().sum()\n",
    "#df_flights[df_flights['DepDel15'].isnull()]"
   ]
  },
  {
   "cell_type": "code",
   "execution_count": 5,
   "metadata": {},
   "outputs": [
    {
     "data": {
      "text/plain": [
       "Year                 0\n",
       "Month                0\n",
       "DayofMonth           0\n",
       "DayOfWeek            0\n",
       "Carrier              0\n",
       "OriginAirportID      0\n",
       "OriginAirportName    0\n",
       "OriginCity           0\n",
       "OriginState          0\n",
       "DestAirportID        0\n",
       "DestAirportName      0\n",
       "DestCity             0\n",
       "DestState            0\n",
       "CRSDepTime           0\n",
       "DepDelay             0\n",
       "DepDel15             0\n",
       "CRSArrTime           0\n",
       "ArrDelay             0\n",
       "ArrDel15             0\n",
       "Cancelled            0\n",
       "dtype: int64"
      ]
     },
     "execution_count": 5,
     "metadata": {},
     "output_type": "execute_result"
    }
   ],
   "source": [
    "#Replace null values in DepDel15 with 0 and 1 based on DepDelay\n",
    "df_flights.loc[df_flights['DepDelay'] <= 15, 'DepDel15'] = df_flights.loc[df_flights['DepDelay'] <= 15, 'DepDel15'].fillna(0)\n",
    "df_flights.loc[df_flights['DepDelay'] > 15, 'DepDel15'] = df_flights.loc[df_flights['DepDelay'] > 15, 'DepDel15'].fillna(1)\n",
    "\n",
    "#Convert DepDel15 to int\n",
    "df_flights['DepDel15'] = df_flights['DepDel15'].astype(int)\n",
    "\n",
    "#Check if the null values are replaced\n",
    "df_flights.isnull().sum()"
   ]
  },
  {
   "cell_type": "markdown",
   "metadata": {},
   "source": [
    "Identify and eliminate any outliers in the **DepDelay** and **ArrDelay** columns."
   ]
  },
  {
   "cell_type": "code",
   "execution_count": 6,
   "metadata": {},
   "outputs": [
    {
     "data": {
      "text/html": [
       "<div>\n",
       "<style scoped>\n",
       "    .dataframe tbody tr th:only-of-type {\n",
       "        vertical-align: middle;\n",
       "    }\n",
       "\n",
       "    .dataframe tbody tr th {\n",
       "        vertical-align: top;\n",
       "    }\n",
       "\n",
       "    .dataframe thead th {\n",
       "        text-align: right;\n",
       "    }\n",
       "</style>\n",
       "<table border=\"1\" class=\"dataframe\">\n",
       "  <thead>\n",
       "    <tr style=\"text-align: right;\">\n",
       "      <th></th>\n",
       "      <th>DepDelay</th>\n",
       "      <th>ArrDelay</th>\n",
       "    </tr>\n",
       "  </thead>\n",
       "  <tbody>\n",
       "    <tr>\n",
       "      <th>count</th>\n",
       "      <td>271940.000000</td>\n",
       "      <td>271940.000000</td>\n",
       "    </tr>\n",
       "    <tr>\n",
       "      <th>mean</th>\n",
       "      <td>10.350449</td>\n",
       "      <td>6.496650</td>\n",
       "    </tr>\n",
       "    <tr>\n",
       "      <th>std</th>\n",
       "      <td>35.673710</td>\n",
       "      <td>38.230331</td>\n",
       "    </tr>\n",
       "    <tr>\n",
       "      <th>min</th>\n",
       "      <td>-63.000000</td>\n",
       "      <td>-75.000000</td>\n",
       "    </tr>\n",
       "    <tr>\n",
       "      <th>25%</th>\n",
       "      <td>-4.000000</td>\n",
       "      <td>-11.000000</td>\n",
       "    </tr>\n",
       "    <tr>\n",
       "      <th>50%</th>\n",
       "      <td>-1.000000</td>\n",
       "      <td>-3.000000</td>\n",
       "    </tr>\n",
       "    <tr>\n",
       "      <th>75%</th>\n",
       "      <td>9.000000</td>\n",
       "      <td>10.000000</td>\n",
       "    </tr>\n",
       "    <tr>\n",
       "      <th>max</th>\n",
       "      <td>1425.000000</td>\n",
       "      <td>1440.000000</td>\n",
       "    </tr>\n",
       "  </tbody>\n",
       "</table>\n",
       "</div>"
      ],
      "text/plain": [
       "            DepDelay       ArrDelay\n",
       "count  271940.000000  271940.000000\n",
       "mean       10.350449       6.496650\n",
       "std        35.673710      38.230331\n",
       "min       -63.000000     -75.000000\n",
       "25%        -4.000000     -11.000000\n",
       "50%        -1.000000      -3.000000\n",
       "75%         9.000000      10.000000\n",
       "max      1425.000000    1440.000000"
      ]
     },
     "execution_count": 6,
     "metadata": {},
     "output_type": "execute_result"
    }
   ],
   "source": [
    "df_flights[['DepDelay','ArrDelay']].describe()"
   ]
  },
  {
   "cell_type": "code",
   "execution_count": 7,
   "metadata": {},
   "outputs": [
    {
     "name": "stdout",
     "output_type": "stream",
     "text": [
      "0.900     37.0\n",
      "0.950     70.0\n",
      "0.990    166.0\n",
      "0.995    214.0\n",
      "Name: DepDelay, dtype: float64\n"
     ]
    }
   ],
   "source": [
    "quartiles = df_flights['DepDelay'].quantile([0.9, 0.95, 0.99, 0.995])\n",
    "\n",
    "# Display the quartiles\n",
    "print(quartiles)"
   ]
  },
  {
   "cell_type": "code",
   "execution_count": 8,
   "metadata": {},
   "outputs": [
    {
     "name": "stdout",
     "output_type": "stream",
     "text": [
      "0.900     38.0\n",
      "0.950     71.0\n",
      "0.990    169.0\n",
      "0.995    216.0\n",
      "Name: ArrDelay, dtype: float64\n"
     ]
    }
   ],
   "source": [
    "quartiles = df_flights['ArrDelay'].quantile([0.9, 0.95, 0.99, 0.995])\n",
    "\n",
    "# Display the quartiles\n",
    "print(quartiles)"
   ]
  },
  {
   "cell_type": "code",
   "execution_count": 9,
   "metadata": {},
   "outputs": [
    {
     "name": "stdout",
     "output_type": "stream",
     "text": [
      "Minimum:-63.00\n",
      "Mean:8.90\n",
      "Median:-1.00\n",
      "Mode:-3.00\n",
      "Maximum:213.00\n",
      "\n"
     ]
    },
    {
     "name": "stderr",
     "output_type": "stream",
     "text": [
      "C:\\Users\\lfqh\\AppData\\Local\\Temp\\ipykernel_24692\\698673881.py:45: UserWarning: FigureCanvasAgg is non-interactive, and thus cannot be shown\n",
      "  fig.show()\n"
     ]
    },
    {
     "data": {
      "image/png": "[encoded data removed]",
      "text/plain": [
       "<Figure size 1000x400 with 2 Axes>"
      ]
     },
     "metadata": {},
     "output_type": "display_data"
    }
   ],
   "source": [
    "# calculate the 0.01th percentile\n",
    "Dep_q995 = df_flights.DepDelay.quantile(0.995)\n",
    "# Get the variable to examine\n",
    "col = df_flights[df_flights.DepDelay < Dep_q995]['DepDelay']\n",
    "\n",
    "show_distribution(col)"
   ]
  },
  {
   "cell_type": "code",
   "execution_count": 10,
   "metadata": {},
   "outputs": [
    {
     "name": "stdout",
     "output_type": "stream",
     "text": [
      "Minimum:-75.00\n",
      "Mean:5.02\n",
      "Median:-3.00\n",
      "Mode:0.00\n",
      "Maximum:215.00\n",
      "\n"
     ]
    },
    {
     "name": "stderr",
     "output_type": "stream",
     "text": [
      "C:\\Users\\lfqh\\AppData\\Local\\Temp\\ipykernel_24692\\698673881.py:45: UserWarning: FigureCanvasAgg is non-interactive, and thus cannot be shown\n",
      "  fig.show()\n"
     ]
    },
    {
     "data": {
      "image/png": "[encoded data removed]",
      "text/plain": [
       "<Figure size 1000x400 with 2 Axes>"
      ]
     },
     "metadata": {},
     "output_type": "display_data"
    }
   ],
   "source": [
    "# calculate the 0.01th percentile\n",
    "Arr_q995 = df_flights.ArrDelay.quantile(0.995)\n",
    "# Get the variable to examine\n",
    "col = df_flights[df_flights.ArrDelay < Arr_q995]['ArrDelay']\n",
    "\n",
    "show_distribution(col)"
   ]
  },
  {
   "cell_type": "code",
   "execution_count": 11,
   "metadata": {},
   "outputs": [
    {
     "name": "stdout",
     "output_type": "stream",
     "text": [
      "<class 'pandas.core.frame.DataFrame'>\n",
      "Index: 270420 entries, 0 to 271939\n",
      "Data columns (total 20 columns):\n",
      " #   Column             Non-Null Count   Dtype \n",
      "---  ------             --------------   ----- \n",
      " 0   Year               270420 non-null  int64 \n",
      " 1   Month              270420 non-null  int64 \n",
      " 2   DayofMonth         270420 non-null  int64 \n",
      " 3   DayOfWeek          270420 non-null  int64 \n",
      " 4   Carrier            270420 non-null  object\n",
      " 5   OriginAirportID    270420 non-null  int64 \n",
      " 6   OriginAirportName  270420 non-null  object\n",
      " 7   OriginCity         270420 non-null  object\n",
      " 8   OriginState        270420 non-null  object\n",
      " 9   DestAirportID      270420 non-null  int64 \n",
      " 10  DestAirportName    270420 non-null  object\n",
      " 11  DestCity           270420 non-null  object\n",
      " 12  DestState          270420 non-null  object\n",
      " 13  CRSDepTime         270420 non-null  int64 \n",
      " 14  DepDelay           270420 non-null  int64 \n",
      " 15  DepDel15           270420 non-null  int32 \n",
      " 16  CRSArrTime         270420 non-null  int64 \n",
      " 17  ArrDelay           270420 non-null  int64 \n",
      " 18  ArrDel15           270420 non-null  int64 \n",
      " 19  Cancelled          270420 non-null  int64 \n",
      "dtypes: int32(1), int64(12), object(7)\n",
      "memory usage: 42.3+ MB\n"
     ]
    }
   ],
   "source": [
    "df_flights_filtered = df_flights.query('DepDelay < @Dep_q995')\n",
    "df_flights_filtered = df_flights_filtered.query('ArrDelay < @Arr_q995')\n",
    "df_flights_filtered.info()"
   ]
  },
  {
   "cell_type": "markdown",
   "metadata": {},
   "source": [
    "View summary statistics for the numeric fields in the dataset."
   ]
  },
  {
   "cell_type": "code",
   "execution_count": 12,
   "metadata": {},
   "outputs": [
    {
     "data": {
      "text/html": [
       "<div>\n",
       "<style scoped>\n",
       "    .dataframe tbody tr th:only-of-type {\n",
       "        vertical-align: middle;\n",
       "    }\n",
       "\n",
       "    .dataframe tbody tr th {\n",
       "        vertical-align: top;\n",
       "    }\n",
       "\n",
       "    .dataframe thead th {\n",
       "        text-align: right;\n",
       "    }\n",
       "</style>\n",
       "<table border=\"1\" class=\"dataframe\">\n",
       "  <thead>\n",
       "    <tr style=\"text-align: right;\">\n",
       "      <th></th>\n",
       "      <th>Year</th>\n",
       "      <th>Month</th>\n",
       "      <th>DayofMonth</th>\n",
       "      <th>DayOfWeek</th>\n",
       "      <th>OriginAirportID</th>\n",
       "      <th>DestAirportID</th>\n",
       "      <th>CRSDepTime</th>\n",
       "      <th>DepDelay</th>\n",
       "      <th>DepDel15</th>\n",
       "      <th>CRSArrTime</th>\n",
       "      <th>ArrDelay</th>\n",
       "      <th>ArrDel15</th>\n",
       "      <th>Cancelled</th>\n",
       "    </tr>\n",
       "  </thead>\n",
       "  <tbody>\n",
       "    <tr>\n",
       "      <th>count</th>\n",
       "      <td>270420.0</td>\n",
       "      <td>270420.000000</td>\n",
       "      <td>270420.000000</td>\n",
       "      <td>270420.000000</td>\n",
       "      <td>270420.000000</td>\n",
       "      <td>270420.000000</td>\n",
       "      <td>270420.000000</td>\n",
       "      <td>270420.000000</td>\n",
       "      <td>270420.000000</td>\n",
       "      <td>270420.000000</td>\n",
       "      <td>270420.000000</td>\n",
       "      <td>270420.000000</td>\n",
       "      <td>270420.000000</td>\n",
       "    </tr>\n",
       "    <tr>\n",
       "      <th>mean</th>\n",
       "      <td>2013.0</td>\n",
       "      <td>6.981758</td>\n",
       "      <td>15.810809</td>\n",
       "      <td>3.899467</td>\n",
       "      <td>12745.134324</td>\n",
       "      <td>12739.925767</td>\n",
       "      <td>1324.738344</td>\n",
       "      <td>8.795670</td>\n",
       "      <td>0.194590</td>\n",
       "      <td>1504.598713</td>\n",
       "      <td>4.913398</td>\n",
       "      <td>0.211523</td>\n",
       "      <td>0.010750</td>\n",
       "    </tr>\n",
       "    <tr>\n",
       "      <th>std</th>\n",
       "      <td>0.0</td>\n",
       "      <td>1.983113</td>\n",
       "      <td>8.802055</td>\n",
       "      <td>1.987918</td>\n",
       "      <td>1501.530324</td>\n",
       "      <td>1502.859436</td>\n",
       "      <td>470.886994</td>\n",
       "      <td>27.573609</td>\n",
       "      <td>0.395885</td>\n",
       "      <td>493.241472</td>\n",
       "      <td>30.576939</td>\n",
       "      <td>0.408389</td>\n",
       "      <td>0.103123</td>\n",
       "    </tr>\n",
       "    <tr>\n",
       "      <th>min</th>\n",
       "      <td>2013.0</td>\n",
       "      <td>4.000000</td>\n",
       "      <td>1.000000</td>\n",
       "      <td>1.000000</td>\n",
       "      <td>10140.000000</td>\n",
       "      <td>10140.000000</td>\n",
       "      <td>1.000000</td>\n",
       "      <td>-63.000000</td>\n",
       "      <td>0.000000</td>\n",
       "      <td>1.000000</td>\n",
       "      <td>-75.000000</td>\n",
       "      <td>0.000000</td>\n",
       "      <td>0.000000</td>\n",
       "    </tr>\n",
       "    <tr>\n",
       "      <th>25%</th>\n",
       "      <td>2013.0</td>\n",
       "      <td>5.000000</td>\n",
       "      <td>8.000000</td>\n",
       "      <td>2.000000</td>\n",
       "      <td>11292.000000</td>\n",
       "      <td>11292.000000</td>\n",
       "      <td>920.000000</td>\n",
       "      <td>-4.000000</td>\n",
       "      <td>0.000000</td>\n",
       "      <td>1119.000000</td>\n",
       "      <td>-11.000000</td>\n",
       "      <td>0.000000</td>\n",
       "      <td>0.000000</td>\n",
       "    </tr>\n",
       "    <tr>\n",
       "      <th>50%</th>\n",
       "      <td>2013.0</td>\n",
       "      <td>7.000000</td>\n",
       "      <td>16.000000</td>\n",
       "      <td>4.000000</td>\n",
       "      <td>12892.000000</td>\n",
       "      <td>12892.000000</td>\n",
       "      <td>1320.000000</td>\n",
       "      <td>-1.000000</td>\n",
       "      <td>0.000000</td>\n",
       "      <td>1527.000000</td>\n",
       "      <td>-3.000000</td>\n",
       "      <td>0.000000</td>\n",
       "      <td>0.000000</td>\n",
       "    </tr>\n",
       "    <tr>\n",
       "      <th>75%</th>\n",
       "      <td>2013.0</td>\n",
       "      <td>9.000000</td>\n",
       "      <td>23.000000</td>\n",
       "      <td>6.000000</td>\n",
       "      <td>14057.000000</td>\n",
       "      <td>14057.000000</td>\n",
       "      <td>1723.000000</td>\n",
       "      <td>9.000000</td>\n",
       "      <td>0.000000</td>\n",
       "      <td>1917.000000</td>\n",
       "      <td>10.000000</td>\n",
       "      <td>0.000000</td>\n",
       "      <td>0.000000</td>\n",
       "    </tr>\n",
       "    <tr>\n",
       "      <th>max</th>\n",
       "      <td>2013.0</td>\n",
       "      <td>10.000000</td>\n",
       "      <td>31.000000</td>\n",
       "      <td>7.000000</td>\n",
       "      <td>15376.000000</td>\n",
       "      <td>15376.000000</td>\n",
       "      <td>2359.000000</td>\n",
       "      <td>213.000000</td>\n",
       "      <td>1.000000</td>\n",
       "      <td>2359.000000</td>\n",
       "      <td>215.000000</td>\n",
       "      <td>1.000000</td>\n",
       "      <td>1.000000</td>\n",
       "    </tr>\n",
       "  </tbody>\n",
       "</table>\n",
       "</div>"
      ],
      "text/plain": [
       "           Year          Month     DayofMonth      DayOfWeek  OriginAirportID  \\\n",
       "count  270420.0  270420.000000  270420.000000  270420.000000    270420.000000   \n",
       "mean     2013.0       6.981758      15.810809       3.899467     12745.134324   \n",
       "std         0.0       1.983113       8.802055       1.987918      1501.530324   \n",
       "min      2013.0       4.000000       1.000000       1.000000     10140.000000   \n",
       "25%      2013.0       5.000000       8.000000       2.000000     11292.000000   \n",
       "50%      2013.0       7.000000      16.000000       4.000000     12892.000000   \n",
       "75%      2013.0       9.000000      23.000000       6.000000     14057.000000   \n",
       "max      2013.0      10.000000      31.000000       7.000000     15376.000000   \n",
       "\n",
       "       DestAirportID     CRSDepTime       DepDelay       DepDel15  \\\n",
       "count  270420.000000  270420.000000  270420.000000  270420.000000   \n",
       "mean    12739.925767    1324.738344       8.795670       0.194590   \n",
       "std      1502.859436     470.886994      27.573609       0.395885   \n",
       "min     10140.000000       1.000000     -63.000000       0.000000   \n",
       "25%     11292.000000     920.000000      -4.000000       0.000000   \n",
       "50%     12892.000000    1320.000000      -1.000000       0.000000   \n",
       "75%     14057.000000    1723.000000       9.000000       0.000000   \n",
       "max     15376.000000    2359.000000     213.000000       1.000000   \n",
       "\n",
       "          CRSArrTime       ArrDelay       ArrDel15      Cancelled  \n",
       "count  270420.000000  270420.000000  270420.000000  270420.000000  \n",
       "mean     1504.598713       4.913398       0.211523       0.010750  \n",
       "std       493.241472      30.576939       0.408389       0.103123  \n",
       "min         1.000000     -75.000000       0.000000       0.000000  \n",
       "25%      1119.000000     -11.000000       0.000000       0.000000  \n",
       "50%      1527.000000      -3.000000       0.000000       0.000000  \n",
       "75%      1917.000000      10.000000       0.000000       0.000000  \n",
       "max      2359.000000     215.000000       1.000000       1.000000  "
      ]
     },
     "execution_count": 12,
     "metadata": {},
     "output_type": "execute_result"
    }
   ],
   "source": [
    "df_flights_filtered.describe()"
   ]
  },
  {
   "cell_type": "markdown",
   "metadata": {},
   "source": [
    "*What are the average (mean) departure and arrival delays?*"
   ]
  },
  {
   "cell_type": "code",
   "execution_count": 13,
   "metadata": {},
   "outputs": [
    {
     "name": "stdout",
     "output_type": "stream",
     "text": [
      "Average Departure Delay 8.80\n",
      "Average Arrival Delay 4.91\n"
     ]
    }
   ],
   "source": [
    "print(\"Average Departure Delay {:.2f}\".format(df_flights_filtered['DepDelay'].mean()))\n",
    "print(\"Average Arrival Delay {:.2f}\".format(df_flights_filtered['ArrDelay'].mean()))\n"
   ]
  },
  {
   "cell_type": "markdown",
   "metadata": {},
   "source": [
    "*How do the carriers compare in terms of arrival delay performance?*"
   ]
  },
  {
   "cell_type": "code",
   "execution_count": 14,
   "metadata": {},
   "outputs": [
    {
     "name": "stdout",
     "output_type": "stream",
     "text": [
      "Carrier\n",
      "9E     3.130232\n",
      "AA     5.023148\n",
      "AS    -0.605953\n",
      "B6     7.758772\n",
      "DL     0.705895\n",
      "EV     7.709548\n",
      "F9     9.515083\n",
      "FL     6.012221\n",
      "HA    -0.950267\n",
      "MQ    10.572204\n",
      "OO     5.115184\n",
      "UA     2.940121\n",
      "US     3.127627\n",
      "VX     7.130918\n",
      "WN     7.142587\n",
      "YV     6.614351\n",
      "Name: ArrDelay, dtype: float64\n"
     ]
    },
    {
     "data": {
      "text/plain": [
       "<Axes: title={'center': 'Average Arrival Delay by Carrier'}, xlabel='Carrier'>"
      ]
     },
     "execution_count": 14,
     "metadata": {},
     "output_type": "execute_result"
    },
    {
     "data": {
      "image/png": "[encoded data removed]",
      "text/plain": [
       "<Figure size 640x480 with 1 Axes>"
      ]
     },
     "metadata": {},
     "output_type": "display_data"
    }
   ],
   "source": [
    "print(df_flights_filtered.groupby(df_flights_filtered.Carrier)['ArrDelay'].mean())\n",
    "ArrDelay_by_carrier = df_flights_filtered.groupby(df_flights_filtered.Carrier)['ArrDelay'].mean()\n",
    "ArrDelay_by_carrier.plot(kind='bar', title='Average Arrival Delay by Carrier')"
   ]
  },
  {
   "cell_type": "markdown",
   "metadata": {},
   "source": [
    "*Is there a noticable difference in arrival delays for different days of the week?*"
   ]
  },
  {
   "cell_type": "code",
   "execution_count": 15,
   "metadata": {},
   "outputs": [
    {
     "name": "stdout",
     "output_type": "stream",
     "text": [
      "DayOfWeek\n",
      "1    5.309265\n",
      "2    3.032199\n",
      "3    5.173134\n",
      "4    8.529588\n",
      "5    6.780811\n",
      "6    1.019164\n",
      "7    3.616125\n",
      "Name: ArrDelay, dtype: float64\n"
     ]
    },
    {
     "data": {
      "text/plain": [
       "<Axes: title={'center': 'Average Arrival Delay by Day of Week'}, xlabel='DayOfWeek'>"
      ]
     },
     "execution_count": 15,
     "metadata": {},
     "output_type": "execute_result"
    },
    {
     "data": {
      "image/png": "[encoded data removed]",
      "text/plain": [
       "<Figure size 640x480 with 1 Axes>"
      ]
     },
     "metadata": {},
     "output_type": "display_data"
    }
   ],
   "source": [
    "print(df_flights_filtered.groupby(df_flights_filtered.DayOfWeek)['ArrDelay'].mean())\n",
    "ArrDelay_by_day_of_week = df_flights_filtered.groupby(df_flights_filtered.DayOfWeek)['ArrDelay'].mean()\n",
    "ArrDelay_by_day_of_week.plot(kind='bar', title='Average Arrival Delay by Day of Week')"
   ]
  },
  {
   "cell_type": "markdown",
   "metadata": {},
   "source": [
    "*Which departure airport has the highest average departure delay?*"
   ]
  },
  {
   "cell_type": "code",
   "execution_count": 16,
   "metadata": {},
   "outputs": [
    {
     "name": "stdout",
     "output_type": "stream",
     "text": [
      "OriginAirportName    Chicago Midway International\n",
      "DepDelay                                14.499594\n",
      "Name: 7, dtype: object\n"
     ]
    }
   ],
   "source": [
    "#print(df_flights_filtered.groupby(df_flights_filtered.OriginAirportName)['DepDelay'].mean())\n",
    "DepDelay_by_Origin = df_flights_filtered.groupby(df_flights_filtered.OriginAirportName)['DepDelay'].mean()\n",
    "DepDelay_by_Origin_df = DepDelay_by_Origin.to_frame()\n",
    "DepDelay_by_Origin_df.reset_index(inplace=True)\n",
    "DepDelay_by_Origin.columns = ['OriginAirportName', 'DepDelay']\n",
    "\n",
    "# Find the index of the row with the maximum value in the 'DepDelay' column\n",
    "max_depdelay_index = DepDelay_by_Origin_df['DepDelay'].idxmax()\n",
    "\n",
    "# Retrieve the row with the maximum value in the 'DepDelay' column\n",
    "row_with_max_depdelay = DepDelay_by_Origin_df.loc[max_depdelay_index]\n",
    "\n",
    "# Display the row\n",
    "print(row_with_max_depdelay)"
   ]
  },
  {
   "cell_type": "markdown",
   "metadata": {},
   "source": [
    "*Do **late** departures tend to result in longer arrival delays than on-time departures?*"
   ]
  },
  {
   "cell_type": "code",
   "execution_count": 22,
   "metadata": {},
   "outputs": [
    {
     "data": {
      "text/plain": [
       "<Axes: title={'center': 'ArrDelay'}, xlabel='DepDel15'>"
      ]
     },
     "execution_count": 22,
     "metadata": {},
     "output_type": "execute_result"
    },
    {
     "data": {
      "image/png": "[encoded data removed]",
      "text/plain": [
       "<Figure size 800x500 with 1 Axes>"
      ]
     },
     "metadata": {},
     "output_type": "display_data"
    }
   ],
   "source": [
    "df_flights_filtered.boxplot(column='ArrDelay', by='DepDel15', figsize=(8,5))"
   ]
  },
  {
   "cell_type": "markdown",
   "metadata": {},
   "source": [
    "*Which route (from origin airport to destination airport) has the most **late** arrivals?*"
   ]
  },
  {
   "cell_type": "code",
   "execution_count": 27,
   "metadata": {},
   "outputs": [
    {
     "data": {
      "text/html": [
       "<div>\n",
       "<style scoped>\n",
       "    .dataframe tbody tr th:only-of-type {\n",
       "        vertical-align: middle;\n",
       "    }\n",
       "\n",
       "    .dataframe tbody tr th {\n",
       "        vertical-align: top;\n",
       "    }\n",
       "\n",
       "    .dataframe thead th {\n",
       "        text-align: right;\n",
       "    }\n",
       "</style>\n",
       "<table border=\"1\" class=\"dataframe\">\n",
       "  <thead>\n",
       "    <tr style=\"text-align: right;\">\n",
       "      <th></th>\n",
       "      <th>OriginAirportName</th>\n",
       "      <th>DestAirportName</th>\n",
       "      <th>FlightCount</th>\n",
       "    </tr>\n",
       "  </thead>\n",
       "  <tbody>\n",
       "    <tr>\n",
       "      <th>1172</th>\n",
       "      <td>Los Angeles International</td>\n",
       "      <td>San Francisco International</td>\n",
       "      <td>316</td>\n",
       "    </tr>\n",
       "  </tbody>\n",
       "</table>\n",
       "</div>"
      ],
      "text/plain": [
       "              OriginAirportName              DestAirportName  FlightCount\n",
       "1172  Los Angeles International  San Francisco International          316"
      ]
     },
     "execution_count": 27,
     "metadata": {},
     "output_type": "execute_result"
    }
   ],
   "source": [
    "# Group by 'OriginAirportName' and 'DestAirportName' and count the occurrences\n",
    "df_flights_late_arrivals = df_flights_filtered.query('ArrDel15 == 1')\n",
    "grouped_counts = df_flights_late_arrivals.groupby(['OriginAirportName', 'DestAirportName']).size().reset_index(name='FlightCount')\n",
    "\n",
    "\n",
    "# Sort the DataFrame by 'FlightCount' in descending order\n",
    "sorted_grouped_counts = grouped_counts.sort_values(by='FlightCount', ascending=False)\n",
    "\n",
    "# Display the grouped and counted DataFrame\n",
    "sorted_grouped_counts.head(1)"
   ]
  },
  {
   "cell_type": "markdown",
   "metadata": {},
   "source": [
    "*Which route has the highest average arrival delay?*"
   ]
  },
  {
   "cell_type": "code",
   "execution_count": 31,
   "metadata": {},
   "outputs": [
    {
     "data": {
      "text/html": [
       "<div>\n",
       "<style scoped>\n",
       "    .dataframe tbody tr th:only-of-type {\n",
       "        vertical-align: middle;\n",
       "    }\n",
       "\n",
       "    .dataframe tbody tr th {\n",
       "        vertical-align: top;\n",
       "    }\n",
       "\n",
       "    .dataframe thead th {\n",
       "        text-align: right;\n",
       "    }\n",
       "</style>\n",
       "<table border=\"1\" class=\"dataframe\">\n",
       "  <thead>\n",
       "    <tr style=\"text-align: right;\">\n",
       "      <th></th>\n",
       "      <th>OriginAirportName</th>\n",
       "      <th>DestAirportName</th>\n",
       "      <th>AvgArrDelay</th>\n",
       "    </tr>\n",
       "  </thead>\n",
       "  <tbody>\n",
       "    <tr>\n",
       "      <th>2372</th>\n",
       "      <td>Washington Dulles International</td>\n",
       "      <td>Louis Armstrong New Orleans International</td>\n",
       "      <td>114.800000</td>\n",
       "    </tr>\n",
       "    <tr>\n",
       "      <th>2321</th>\n",
       "      <td>Theodore Francis Green State</td>\n",
       "      <td>Cleveland-Hopkins International</td>\n",
       "      <td>111.000000</td>\n",
       "    </tr>\n",
       "    <tr>\n",
       "      <th>341</th>\n",
       "      <td>Cincinnati/Northern Kentucky International</td>\n",
       "      <td>LaGuardia</td>\n",
       "      <td>101.000000</td>\n",
       "    </tr>\n",
       "    <tr>\n",
       "      <th>133</th>\n",
       "      <td>Bradley International</td>\n",
       "      <td>Newark Liberty International</td>\n",
       "      <td>87.285714</td>\n",
       "    </tr>\n",
       "    <tr>\n",
       "      <th>1593</th>\n",
       "      <td>Norfolk International</td>\n",
       "      <td>Minneapolis-St Paul International</td>\n",
       "      <td>86.900000</td>\n",
       "    </tr>\n",
       "    <tr>\n",
       "      <th>89</th>\n",
       "      <td>Baltimore/Washington International Thurgood Ma...</td>\n",
       "      <td>Newark Liberty International</td>\n",
       "      <td>86.000000</td>\n",
       "    </tr>\n",
       "    <tr>\n",
       "      <th>2068</th>\n",
       "      <td>Salt Lake City International</td>\n",
       "      <td>Washington Dulles International</td>\n",
       "      <td>83.000000</td>\n",
       "    </tr>\n",
       "    <tr>\n",
       "      <th>1595</th>\n",
       "      <td>Norfolk International</td>\n",
       "      <td>Newark Liberty International</td>\n",
       "      <td>80.133333</td>\n",
       "    </tr>\n",
       "    <tr>\n",
       "      <th>2320</th>\n",
       "      <td>Theodore Francis Green State</td>\n",
       "      <td>Chicago O'Hare International</td>\n",
       "      <td>79.500000</td>\n",
       "    </tr>\n",
       "    <tr>\n",
       "      <th>1028</th>\n",
       "      <td>LaGuardia</td>\n",
       "      <td>Richmond International</td>\n",
       "      <td>75.875000</td>\n",
       "    </tr>\n",
       "  </tbody>\n",
       "</table>\n",
       "</div>"
      ],
      "text/plain": [
       "                                      OriginAirportName  \\\n",
       "2372                    Washington Dulles International   \n",
       "2321                       Theodore Francis Green State   \n",
       "341          Cincinnati/Northern Kentucky International   \n",
       "133                               Bradley International   \n",
       "1593                              Norfolk International   \n",
       "89    Baltimore/Washington International Thurgood Ma...   \n",
       "2068                       Salt Lake City International   \n",
       "1595                              Norfolk International   \n",
       "2320                       Theodore Francis Green State   \n",
       "1028                                          LaGuardia   \n",
       "\n",
       "                                DestAirportName  AvgArrDelay  \n",
       "2372  Louis Armstrong New Orleans International   114.800000  \n",
       "2321            Cleveland-Hopkins International   111.000000  \n",
       "341                                   LaGuardia   101.000000  \n",
       "133                Newark Liberty International    87.285714  \n",
       "1593          Minneapolis-St Paul International    86.900000  \n",
       "89                 Newark Liberty International    86.000000  \n",
       "2068            Washington Dulles International    83.000000  \n",
       "1595               Newark Liberty International    80.133333  \n",
       "2320               Chicago O'Hare International    79.500000  \n",
       "1028                     Richmond International    75.875000  "
      ]
     },
     "execution_count": 31,
     "metadata": {},
     "output_type": "execute_result"
    }
   ],
   "source": [
    "df_flights_arrival_delayed = df_flights_filtered.query('ArrDelay > 0')\n",
    "grouped_averages = df_flights_arrival_delayed.groupby(['OriginAirportName', 'DestAirportName'])['ArrDelay'].mean().reset_index(name='AvgArrDelay')\n",
    "sorted_grouped_averages = grouped_averages.sort_values(by='AvgArrDelay', ascending=False)\n",
    "\n",
    "sorted_grouped_averages.head(10)"
   ]
  }
 ],
 "metadata": {
  "kernelspec": {
   "display_name": "ds",
   "language": "python",
   "name": "python3"
  },
  "language_info": {
   "codemirror_mode": {
    "name": "ipython",
    "version": 3
   },
   "file_extension": ".py",
   "mimetype": "text/x-python",
   "name": "python",
   "nbconvert_exporter": "python",
   "pygments_lexer": "ipython3",
   "version": "3.12.3"
  }
 },
 "nbformat": 4,
 "nbformat_minor": 4
}
